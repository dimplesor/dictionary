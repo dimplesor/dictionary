{
 "cells": [
  {
   "cell_type": "markdown",
   "id": "3c445985-a044-4dab-a84d-8783075a29c1",
   "metadata": {},
   "source": [
    "# Dictionary"
   ]
  },
  {
   "cell_type": "code",
   "execution_count": 1,
   "id": "1b08f7b0-a4ff-4a8e-a9d1-2c19da814de6",
   "metadata": {},
   "outputs": [
    {
     "name": "stdout",
     "output_type": "stream",
     "text": [
      "['Apple', 'Banana', 'Orange', 'Grapes', 'Mango']\n"
     ]
    }
   ],
   "source": [
    "l1= ['Apple','Banana','Orange','Grapes','Mango']\n",
    "print(l1)\n"
   ]
  },
  {
   "cell_type": "code",
   "execution_count": 2,
   "id": "f885d1ec-d83c-49da-a929-698c64ef6054",
   "metadata": {},
   "outputs": [
    {
     "data": {
      "text/plain": [
       "('td1', 'td2', 1, 2, 3)"
      ]
     },
     "execution_count": 2,
     "metadata": {},
     "output_type": "execute_result"
    }
   ],
   "source": [
    "t1 =('td1', 'td2', 1,2,3)\n",
    "t1"
   ]
  },
  {
   "cell_type": "code",
   "execution_count": 3,
   "id": "80ebb1aa-17f5-4b04-ac64-43064b8a3773",
   "metadata": {},
   "outputs": [
    {
     "data": {
      "text/plain": [
       "{'Tuple': 't1', 'List1': 'l1', '56': '78', 's4': 's5'}"
      ]
     },
     "execution_count": 3,
     "metadata": {},
     "output_type": "execute_result"
    }
   ],
   "source": [
    "d1={\n",
    "    'Tuple':'t1',\n",
    "    'List1':'l1',\n",
    "    '56':'78',\n",
    "    's4':'s5'\n",
    "}\n",
    "d1\n"
   ]
  },
  {
   "cell_type": "code",
   "execution_count": null,
   "id": "cee85df4-2d00-450e-8add-4d7123df6c37",
   "metadata": {},
   "outputs": [],
   "source": []
  },
  {
   "cell_type": "code",
   "execution_count": null,
   "id": "4b507120-36d5-4d0f-ae65-6a6b9b879a5b",
   "metadata": {},
   "outputs": [],
   "source": []
  }
 ],
 "metadata": {
  "kernelspec": {
   "display_name": "Python 3 (ipykernel)",
   "language": "python",
   "name": "python3"
  },
  "language_info": {
   "codemirror_mode": {
    "name": "ipython",
    "version": 3
   },
   "file_extension": ".py",
   "mimetype": "text/x-python",
   "name": "python",
   "nbconvert_exporter": "python",
   "pygments_lexer": "ipython3",
   "version": "3.11.7"
  }
 },
 "nbformat": 4,
 "nbformat_minor": 5
}
